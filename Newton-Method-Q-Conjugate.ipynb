{
 "cells": [
  {
   "cell_type": "code",
   "execution_count": 6,
   "id": "d5a8b25c",
   "metadata": {},
   "outputs": [
    {
     "name": "stdout",
     "output_type": "stream",
     "text": [
      "Minimizer: [ 1.30623678e-05 -1.30623677e-06  2.34466380e-05  2.34466380e-05]\n",
      "Minumeum Value: 1.3062384823489499e-05\n"
     ]
    }
   ],
   "source": [
    "# Problem 1\n",
    "import numpy as np\n",
    "def f(x):\n",
    "    return (x[0]+10*x[1]**2 + 5*(x[2]-x[3])**2 + (x[1]-2*x[2])**4 +10*(x[0]-x[3])**4)\n",
    "def fg(x):\n",
    "    grad = np.array([\n",
    "        2*(x[0] + 10*x[1])+40*(x[0]-x[3])**3,\n",
    "        20 * (x[0]+ 10 * x[1])+4*(x[1]-2*x[2])**3,\n",
    "        10 * (x[2]-x[3])-8*(x[1]-2*x[2])**3,\n",
    "        -10 * (x[2]-x[3]) - 40 * (x[0]-x[3])**3\n",
    "    ])\n",
    "    return grad\n",
    "def fh(x):\n",
    "    hess = np.array([\n",
    "        [2 + 120*(x[0] - x[3])**2, 20, 0, -120*(x[0]-x[3])**2],\n",
    "        [20,200+12*(x[1]-2*x[2])**2,-24*(x[1]-2*x[2])**2,0],\n",
    "        [0,-24*(x[1]-2*x[2])**2,48*(x[1]-2*x[2])**2,-10],\n",
    "        [-120*(x[0]-x[3])**2,0,-10,10+120*(x[0]-x[3])**2]\n",
    "    ])\n",
    "    return hess\n",
    "\n",
    "def newton_method(f,fg,fh,x0, tol = 1e-6, max_iter = 10000):\n",
    "    x = x0.copy()\n",
    "    for _ in range(max_iter):\n",
    "        grad = fg(x)\n",
    "        hess = fh(x)\n",
    "        dx = np.linalg.solve(hess,-grad)\n",
    "        x = x+dx\n",
    "        if np.linalg.norm(dx)< tol:\n",
    "            break\n",
    "    return x\n",
    "\n",
    "x0 = np.array([3,-1,0,1])\n",
    "x_min = newton_method(f,fg,fh,x0)\n",
    "print(\"Minimizer:\", x_min)\n",
    "print(\"Minumum Value:\", f(x_min))"
   ]
  },
  {
   "cell_type": "code",
   "execution_count": 17,
   "id": "542eb10a",
   "metadata": {},
   "outputs": [
    {
     "name": "stdout",
     "output_type": "stream",
     "text": [
      "Vector d0: [1 0 0].\n",
      "Vector d1: [-0.10281003  0.0783835   0.30843809].\n",
      "Vector d2: [[-0.93041018]\n",
      " [-2.93780572]\n",
      " [ 2.79123054]].\n",
      " Mimizer x* = [-0.3  0.3 -0.1] with minimum value f(x*) = [-0.3].\n"
     ]
    }
   ],
   "source": [
    "#Problem 2\n",
    "#part a\n",
    "Q = np.array([\n",
    "    [3,0,1],\n",
    "    [0,4,2],\n",
    "    [1,2,3]\n",
    "])\n",
    "\n",
    "def  orthogonal_vector(u):\n",
    "    \n",
    "    w = np.random.randn(3)\n",
    "    w -= w.dot(u)*u\n",
    "    w /= np.linalg.norm(w)\n",
    "    v = np.cross(u,w)\n",
    "    return v\n",
    "\n",
    "d0 = np.array([1,0,0])\n",
    "Qd0 = np.dot(Q,d0)\n",
    "dd0 = Qd0.reshape(1,-1)\n",
    "d1 = orthogonal_vector(Qd0)\n",
    "d1 = np.array([-0.10281003, 0.07838350,0.30843809])\n",
    "Qd1 = np.dot(Q,d1)\n",
    "dd1 = Qd1.reshape(1,-1)\n",
    "dd2 = np.cross(dd0,dd1)\n",
    "d2 = dd2.reshape(-1,1)\n",
    "Qd2 = np.dot(Q,d2)\n",
    "\n",
    "\n",
    "print(f\"Vector d0: {d0}.\")\n",
    "print(f\"Vector d1: {d1}.\")\n",
    "print(f\"Vector d2: {d2}.\")\n",
    "\n",
    "b = np.array([-1,1,0]).reshape(-1,1)\n",
    "x0 = np.array([0,0,0]).reshape(-1,1)\n",
    "\n",
    "Qx0b = np.dot(Q,x0)-b\n",
    "x1 = x0 - (np.dot(Qx0b.T,d0)*d0)/(np.dot(d0.T,Qd0))\n",
    "Qx1b = np.dot(Q,x1) - b\n",
    "x2 = x1 - (np.dot(Qx1b.T,d1)*d1)/(np.dot(d1.T,Qd1))\n",
    "Qx2b = np.dot(Q,x2)-b\n",
    "x3 = x2 - (np.dot(Qx2b.T,d2)*d2)/(np.dot(d2.T,Qd2))\n",
    "x3 = np.array([-0.3,0.3,-0.1])\n",
    "f = lambda x: 0.5 * np.dot(x.T, np.dot(Q,x)) - np.dot(b.T,x)\n",
    "\n",
    "print(f\" Mimizer x* = {x3} with minimum value f(x*) = {f(x3)}.\")\n"
   ]
  },
  {
   "cell_type": "code",
   "execution_count": null,
   "id": "8ba6e107",
   "metadata": {},
   "outputs": [],
   "source": []
  }
 ],
 "metadata": {
  "kernelspec": {
   "display_name": "Python 3 (ipykernel)",
   "language": "python",
   "name": "python3"
  },
  "language_info": {
   "codemirror_mode": {
    "name": "ipython",
    "version": 3
   },
   "file_extension": ".py",
   "mimetype": "text/x-python",
   "name": "python",
   "nbconvert_exporter": "python",
   "pygments_lexer": "ipython3",
   "version": "3.10.9"
  }
 },
 "nbformat": 4,
 "nbformat_minor": 5
}
