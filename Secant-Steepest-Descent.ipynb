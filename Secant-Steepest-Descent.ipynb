{
 "cells": [
  {
   "cell_type": "code",
   "execution_count": 9,
   "id": "a834c6d4",
   "metadata": {},
   "outputs": [
    {
     "name": "stdout",
     "output_type": "stream",
     "text": [
      "the minimizer of f(x1,x2,x3) using the steepest descent method is [ 4.          3.00047457 -4.99998084].\n"
     ]
    }
   ],
   "source": [
    "import numpy as np\n",
    "f = lambda x: (x[0] - 4)**4 + (x[1]-3)**2 + 4 * (x[2]+5)**4\n",
    "grad = lambda x: np.array([4*(x[0]-4)**3,2*(x[1]-3), 16*(x[2]+5)])\n",
    "\n",
    "def secant(df, x0, x1, max_iter = 1000, tol = 1e-6):\n",
    "    for i in range(max_iter):\n",
    "        y0 = df(x0)\n",
    "        y1 = df(x1)\n",
    "        if  np.abs(y1-y0) < tol :\n",
    "            return x1\n",
    "        x = (x0 * y1 - x1*y0)/ (y1 - y0)\n",
    "        y = df(x)\n",
    "        if np.abs(x - x1)/np.abs(x1)  < tol :\n",
    "            break\n",
    "            \n",
    "        x0 = x1\n",
    "        x1 = x\n",
    "        y0 = y1\n",
    "        y1 = y\n",
    "        \n",
    "    return x\n",
    "\n",
    "\n",
    "def steepest_desc(f, grad, x0, max_iter = 1000, tol = 1e-6):\n",
    "    for i in range(max_iter):\n",
    "        g = grad(x0)\n",
    "        \n",
    "        d_ls_f = lambda a: np.dot(g, grad(x0 - a*g))\n",
    "        \n",
    "        step_size = secant(d_ls_f, 1, 2, 100, 1e-6)\n",
    "        \n",
    "        x = x0 - step_size*g\n",
    "        \n",
    "        if np.linalg.norm(x - x0)/ np.linalg.norm(x0) < tol:\n",
    "            break\n",
    "            \n",
    "        x0 = x\n",
    "    return x\n",
    "x0 = np.array([4,2,-1])\n",
    "\n",
    "x = steepest_desc(f,grad,x0,1000,1e-6)\n",
    "\n",
    "print(f\"the minimizer of f(x1,x2,x3) using the steepest descent method is {x}.\")\n",
    "             "
   ]
  },
  {
   "cell_type": "code",
   "execution_count": null,
   "id": "719da6c4",
   "metadata": {},
   "outputs": [],
   "source": []
  }
 ],
 "metadata": {
  "kernelspec": {
   "display_name": "Python 3 (ipykernel)",
   "language": "python",
   "name": "python3"
  },
  "language_info": {
   "codemirror_mode": {
    "name": "ipython",
    "version": 3
   },
   "file_extension": ".py",
   "mimetype": "text/x-python",
   "name": "python",
   "nbconvert_exporter": "python",
   "pygments_lexer": "ipython3",
   "version": "3.10.9"
  }
 },
 "nbformat": 4,
 "nbformat_minor": 5
}
