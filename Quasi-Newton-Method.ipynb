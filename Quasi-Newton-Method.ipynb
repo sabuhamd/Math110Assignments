{
 "cells": [
  {
   "cell_type": "code",
   "execution_count": 3,
   "id": "ae4799be",
   "metadata": {},
   "outputs": [
    {
     "name": "stdout",
     "output_type": "stream",
     "text": [
      "H_2 = Matrix([[0.500000000000000, 0], [0, 1.00000000000000]])\n"
     ]
    }
   ],
   "source": [
    "#HW6 Problem 1\n",
    "import numpy as np\n",
    "from sympy import *\n",
    "from sympy.solvers import solve\n",
    "from sympy.solvers.solveset import linsolve\n",
    "\n",
    "Q = Matrix([[2,0],[0,1]])\n",
    "\n",
    "f = lambda x: (0.5 * x.T * Q * x)[0]+3\n",
    "\n",
    "x0= Matrix([1,2])\n",
    "H0 = Matrix([[1,0],[0,1]])\n",
    "\n",
    "g0 = Q * x0\n",
    "\n",
    "alpha = symbols('alpha')\n",
    "\n",
    "func0 = f(x0 - alpha*H0*g0)\n",
    "alpha0 = solve(diff(func0,alpha))[0]\n",
    "\n",
    "diff(func0,alpha,alpha) > 0\n",
    "\n",
    "x1 = x0 - alpha0 * H0 * g0\n",
    "del_x0 = x1-x0\n",
    "\n",
    "g1 = Q * x1\n",
    "del_g0 = g1 - g0\n",
    "\n",
    "a, b, c = symbols('a, b, c')\n",
    "H = Matrix([[a,b],[b,c]])\n",
    "\n",
    "h_solve = linsolve(H* del_g0 - del_x0, (a,b,c))\n",
    "list1 = list(h_solve.subs(c,1))[0]\n",
    "\n",
    "H1 = H.subs([(a,list1[0]),(b,list1[1]), (c,list1[2])])\n",
    "\n",
    "\n",
    "#second iteration\n",
    "func1 = f(x1 - alpha*H1*g1)\n",
    "alpha1 = solve(diff(func1,alpha))[0]\n",
    "\n",
    "diff(func1,alpha,alpha) > 0\n",
    "\n",
    "x2 = x1 - alpha*H1*g1\n",
    "del_x1 = x2 - x1\n",
    "g2 = Q * x2\n",
    "del_g1 = g2 - g1\n",
    "\n",
    "con1 = Matrix(list(h_solve))\n",
    "\n",
    "h_solve = linsolve(H*del_g1 - del_x1, (a,b,c))\n",
    "con2 = Matrix(list(h_solve))\n",
    "\n",
    "sol_c = (solve((con1-con2),(c)))[c]\n",
    "temp = con1.subs(c,sol_c)\n",
    "H2 = H.subs([(a,temp[0]),(b,temp[1]), (c,temp[2])])\n",
    "print(f\"H_2 = {H2}\")"
   ]
  },
  {
   "cell_type": "code",
   "execution_count": null,
   "id": "697de7f8",
   "metadata": {},
   "outputs": [],
   "source": []
  }
 ],
 "metadata": {
  "kernelspec": {
   "display_name": "Python 3 (ipykernel)",
   "language": "python",
   "name": "python3"
  },
  "language_info": {
   "codemirror_mode": {
    "name": "ipython",
    "version": 3
   },
   "file_extension": ".py",
   "mimetype": "text/x-python",
   "name": "python",
   "nbconvert_exporter": "python",
   "pygments_lexer": "ipython3",
   "version": "3.10.9"
  }
 },
 "nbformat": 4,
 "nbformat_minor": 5
}
