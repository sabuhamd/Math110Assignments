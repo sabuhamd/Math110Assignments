{
 "cells": [
  {
   "cell_type": "code",
   "execution_count": 3,
   "id": "96f598ec",
   "metadata": {},
   "outputs": [
    {
     "name": "stdout",
     "output_type": "stream",
     "text": [
      "The minimizer is x*= [ 0.00000000e+00 -1.38777878e-17] with f(x*) = 3.0.\n"
     ]
    }
   ],
   "source": [
    "#problem 1\n",
    "import numpy as np\n",
    "Q = np.array([[2,0],[0,2]])\n",
    "f = lambda x: 0.5 * np.dot(x.T, np.dot(Q,x)) + 3\n",
    "x0 = np.array([1,2])\n",
    "H0 = np.array([[1,1],[1,2]])\n",
    "\n",
    "g0 = np.dot(Q,x0.T)\n",
    "d0 = -np.dot(H0,g0)\n",
    "Qd0 = np.dot(Q,d0)\n",
    "alpha0 = -(np.dot(g0,d0))/(np.dot(d0,Qd0))\n",
    "x1 = x0 + alpha0*d0\n",
    "del_x0 =  alpha0*d0\n",
    "g1 =np.dot(Q,x1.T)\n",
    "del_g0 = g1 - g0\n",
    "Hg0 = np.dot(H0,del_g0)\n",
    "gxH0 = np.dot(del_g0, del_x0-Hg0)\n",
    "H1 = H0 + (del_x0-Hg0).reshape(-1,1)*(del_x0-Hg0)/gxH0\n",
    "d1 = -np.dot(H1,g1)\n",
    "Qd1 = np.dot(Q,d1)\n",
    "alpha1 = -(np.dot(g1,d1))/(np.dot(d1,Qd1))\n",
    "x2 = x1 + alpha1*d1\n",
    "\n",
    "print(f\"The minimizer is x*= {x2} with f(x*) = {f(x2)}.\")\n"
   ]
  },
  {
   "cell_type": "code",
   "execution_count": 5,
   "id": "8b530016",
   "metadata": {},
   "outputs": [
    {
     "name": "stdout",
     "output_type": "stream",
     "text": [
      "10.56650246305419 pounds of first type of concrete, 0.9605911330049235 pounds of second type of concrete\n"
     ]
    }
   ],
   "source": [
    "#Problem 2\n",
    "A = np.array([[0.3,0.1],[0.4,0.2],[0.3,0.7]])\n",
    "b = np.array([5,3,4])\n",
    "ATA = np.dot(A.T,A)\n",
    "x = np.dot(np.linalg.inv(ATA),np.dot(A.T,b))\n",
    "print(f\"{x[0]} pounds of first type of concrete, {x[1]} pounds of second type of concrete\")"
   ]
  },
  {
   "cell_type": "code",
   "execution_count": null,
   "id": "e3627823",
   "metadata": {},
   "outputs": [],
   "source": []
  }
 ],
 "metadata": {
  "kernelspec": {
   "display_name": "Python 3 (ipykernel)",
   "language": "python",
   "name": "python3"
  },
  "language_info": {
   "codemirror_mode": {
    "name": "ipython",
    "version": 3
   },
   "file_extension": ".py",
   "mimetype": "text/x-python",
   "name": "python",
   "nbconvert_exporter": "python",
   "pygments_lexer": "ipython3",
   "version": "3.10.9"
  }
 },
 "nbformat": 4,
 "nbformat_minor": 5
}
