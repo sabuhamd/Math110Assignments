{
 "cells": [
  {
   "cell_type": "code",
   "execution_count": 9,
   "id": "00ece9d6",
   "metadata": {},
   "outputs": [
    {
     "name": "stdout",
     "output_type": "stream",
     "text": [
      "By using the golden section search, the value of x that minimizes f is 0.7808841339302288, the minimum value of f(x) is -24.369601567354827, and the number of iterations is 31.\n"
     ]
    }
   ],
   "source": [
    "# 1 Golden Search Method\n",
    "import numpy as np\n",
    "f = lambda x: x**4 - 14*x**3 + 60*x**2 - 70*x\n",
    "ro = (3-np.sqrt(5))/2\n",
    "\n",
    "def goldensearch(f,a,b, tol = 1e-6):\n",
    "    c = a + ro * (b-a)\n",
    "    d = a + (1-ro)*(b-a)\n",
    "    i = 0\n",
    "    while abs(b-a) > tol:\n",
    "        if f(c) < f(d):\n",
    "            b=d\n",
    "        else:\n",
    "            a = c\n",
    "        c = a + ro*(b-a)\n",
    "        d = a+(1-ro) * (b-a)\n",
    "        \n",
    "        i += 1\n",
    "    return (b+a)/2 , i\n",
    "\n",
    "x_min_g, i_g = goldensearch(f, 0, 2)\n",
    "\n",
    "print(f\"By using the golden section search, the value of x that minimizes f is {x_min_g}, the minimum value of f(x) is {f(x_min_g)}, and the number of iterations is {i_g}.\"\n",
    ")\n",
    "\n",
    "       \n",
    "        "
   ]
  },
  {
   "cell_type": "code",
   "execution_count": 10,
   "id": "d86fd6d8",
   "metadata": {},
   "outputs": [
    {
     "name": "stdout",
     "output_type": "stream",
     "text": [
      "By using the fibonacci search, the value of x that minimizes f is 0.7808840998886043, the minimum value of f(x) is -24.369601567354962, and the number of iterations is 31.\n"
     ]
    }
   ],
   "source": [
    "#Fibonacci Method\n",
    "def fibonaccisearch(f,a,b,tol=1e-6):\n",
    "    fib = [1,1]\n",
    "    i = 0\n",
    "    while b-a > tol:\n",
    "        n = len(fib)\n",
    "        if n < 3:\n",
    "            fib.append(fib[-1]+fib[-2])\n",
    "            \n",
    "        rof =1-fib[-1]/(fib[-1]+fib[-2])\n",
    "        c = a + rof*(b-a)\n",
    "        d = a + (1-rof)*(b-a)\n",
    "        \n",
    "        \n",
    "        if f(c) < f(d):\n",
    "            b=d\n",
    "        else:\n",
    "            a = c\n",
    "        \n",
    "        fib.append(fib[-1]+fib[-2])\n",
    "        i += 1\n",
    "    return (a+b)/2 , i\n",
    "\n",
    "x_min_f, i_f = fibonaccisearch(f,0,2)\n",
    "\n",
    "print(f\"By using the fibonacci search, the value of x that minimizes f is {x_min_f}, the minimum value of f(x) is {f(x_min_f)}, and the number of iterations is {i_f}.\"\n",
    ")\n",
    "    \n",
    "    \n",
    "\n"
   ]
  },
  {
   "cell_type": "code",
   "execution_count": 11,
   "id": "1dd482ee",
   "metadata": {},
   "outputs": [
    {
     "name": "stdout",
     "output_type": "stream",
     "text": [
      "By using Newton's Method, the root of g is 11.200000000000093, and the number of iterations is 4.\n"
     ]
    }
   ],
   "source": [
    "#Newton Method\n",
    "g = lambda x: x**3 - 12.2*x**2 + 7.45*x +42\n",
    "\n",
    "from sympy import *\n",
    "x = Symbol('x')\n",
    "y = g(x)\n",
    "gprime = y.diff(x)\n",
    "g_prime = lambdify(x,gprime, 'numpy')\n",
    "\n",
    "def newton(g,g_prime,x0, tol = 1e-6):\n",
    "    x = x0\n",
    "    i = 0\n",
    "    while abs(g(x)) > tol:\n",
    "        x = x - g(x)/g_prime(x)\n",
    "        i += 1\n",
    "    return x, i\n",
    "x_root_g, i_g = newton(g,g_prime,12)\n",
    "\n",
    "print(f\"By using Newton's Method, the root of g is {x_root_g}, and the number of iterations is {i_g}.\"\n",
    ")\n"
   ]
  },
  {
   "cell_type": "code",
   "execution_count": 15,
   "id": "679fccf0",
   "metadata": {},
   "outputs": [
    {
     "name": "stdout",
     "output_type": "stream",
     "text": [
      "By using Newton's Method, the root of g is 11.200000001073377, and the number of iterations is 5.\n"
     ]
    }
   ],
   "source": [
    "#Secant Method\n",
    "\n",
    "def secant(g,x0,x1,tol=1e-6):\n",
    "    f_x1 = g(x1)\n",
    "    f_x0 = g(x0)\n",
    "    i = 0\n",
    "    while abs(f_x1) > tol:\n",
    "        x2 = x1 - f_x1*(x1 - x0)/(f_x1 - f_x0)\n",
    "        x0 = x1\n",
    "        x1 = x2\n",
    "        f_x0 = f_x1\n",
    "        f_x1 = g(x2)\n",
    "        i +=1\n",
    "    return x2, i\n",
    "x_root_s, i_s = secant(g,13,12)\n",
    "print(f\"By using Newton's Method, the root of g is {x_root_s}, and the number of iterations is {i_s}.\"\n",
    ")\n",
    "\n"
   ]
  },
  {
   "cell_type": "code",
   "execution_count": null,
   "id": "7cb852c0",
   "metadata": {},
   "outputs": [],
   "source": []
  }
 ],
 "metadata": {
  "kernelspec": {
   "display_name": "Python 3 (ipykernel)",
   "language": "python",
   "name": "python3"
  },
  "language_info": {
   "codemirror_mode": {
    "name": "ipython",
    "version": 3
   },
   "file_extension": ".py",
   "mimetype": "text/x-python",
   "name": "python",
   "nbconvert_exporter": "python",
   "pygments_lexer": "ipython3",
   "version": "3.10.9"
  }
 },
 "nbformat": 4,
 "nbformat_minor": 5
}
